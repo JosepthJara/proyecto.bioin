{
  "nbformat": 4,
  "nbformat_minor": 0,
  "metadata": {
    "colab": {
      "provenance": []
    },
    "kernelspec": {
      "name": "python3",
      "display_name": "Python 3"
    },
    "language_info": {
      "name": "python"
    }
  },
  "cells": [
    {
      "cell_type": "code",
      "execution_count": 3,
      "metadata": {
        "colab": {
          "base_uri": "https://localhost:8080/"
        },
        "id": "w3PBpbX0yWT6",
        "outputId": "c6aa767f-ea1b-4537-c00a-2f06bb82080c"
      },
      "outputs": [
        {
          "output_type": "stream",
          "name": "stdout",
          "text": [
            "Collecting biopython\n",
            "  Downloading biopython-1.84-cp310-cp310-manylinux_2_17_x86_64.manylinux2014_x86_64.whl.metadata (12 kB)\n",
            "Requirement already satisfied: numpy in /usr/local/lib/python3.10/dist-packages (from biopython) (1.26.4)\n",
            "Downloading biopython-1.84-cp310-cp310-manylinux_2_17_x86_64.manylinux2014_x86_64.whl (3.2 MB)\n",
            "\u001b[2K   \u001b[90m━━━━━━━━━━━━━━━━━━━━━━━━━━━━━━━━━━━━━━━━\u001b[0m \u001b[32m3.2/3.2 MB\u001b[0m \u001b[31m18.6 MB/s\u001b[0m eta \u001b[36m0:00:00\u001b[0m\n",
            "\u001b[?25hInstalling collected packages: biopython\n",
            "Successfully installed biopython-1.84\n"
          ]
        },
        {
          "output_type": "stream",
          "name": "stderr",
          "text": [
            "2024-11-21 17:35:49.813 WARNING streamlit.runtime.scriptrunner_utils.script_run_context: Thread 'MainThread': missing ScriptRunContext! This warning can be ignored when running in bare mode.\n",
            "2024-11-21 17:35:49.814 WARNING streamlit.runtime.scriptrunner_utils.script_run_context: Thread 'MainThread': missing ScriptRunContext! This warning can be ignored when running in bare mode.\n",
            "2024-11-21 17:35:49.871 \n",
            "  \u001b[33m\u001b[1mWarning:\u001b[0m to view this Streamlit app on a browser, run it with the following\n",
            "  command:\n",
            "\n",
            "    streamlit run /usr/local/lib/python3.10/dist-packages/colab_kernel_launcher.py [ARGUMENTS]\n",
            "2024-11-21 17:35:49.877 Thread 'MainThread': missing ScriptRunContext! This warning can be ignored when running in bare mode.\n",
            "2024-11-21 17:35:49.883 Thread 'MainThread': missing ScriptRunContext! This warning can be ignored when running in bare mode.\n",
            "2024-11-21 17:35:49.886 Thread 'MainThread': missing ScriptRunContext! This warning can be ignored when running in bare mode.\n",
            "2024-11-21 17:35:49.888 Thread 'MainThread': missing ScriptRunContext! This warning can be ignored when running in bare mode.\n",
            "2024-11-21 17:35:49.891 Thread 'MainThread': missing ScriptRunContext! This warning can be ignored when running in bare mode.\n",
            "2024-11-21 17:35:49.892 Session state does not function when running a script without `streamlit run`\n",
            "2024-11-21 17:35:49.894 Thread 'MainThread': missing ScriptRunContext! This warning can be ignored when running in bare mode.\n",
            "2024-11-21 17:35:49.895 Thread 'MainThread': missing ScriptRunContext! This warning can be ignored when running in bare mode.\n",
            "2024-11-21 17:35:49.897 Thread 'MainThread': missing ScriptRunContext! This warning can be ignored when running in bare mode.\n",
            "2024-11-21 17:35:49.898 Thread 'MainThread': missing ScriptRunContext! This warning can be ignored when running in bare mode.\n"
          ]
        }
      ],
      "source": [
        "!pip install biopython\n",
        "import streamlit as st\n",
        "from Bio.SeqUtils import seq3, seq1\n",
        "from Bio.Seq import Seq\n",
        "\n",
        "# Configuración de la página\n",
        "st.set_page_config(page_title=\"Predicción de Estructuras Secundarias\", layout=\"wide\")\n",
        "\n",
        "# Título de la aplicación\n",
        "st.header(\"Predicción de Estructuras Secundarias de Proteínas\")\n",
        "\n",
        "# Subir secuencia de proteínas\n",
        "sequence_input = st.text_area(\"Introduce la secuencia de aminoácidos (en forma de una letra):\", height=200)\n",
        "\n",
        "if sequence_input:\n",
        "    try:\n",
        "        # Validar y limpiar secuencia\n",
        "        protein_sequence = Seq(sequence_input.strip().upper())\n",
        "        if not all(residue in \"ACDEFGHIKLMNPQRSTVWY\" for residue in protein_sequence):\n",
        "            st.error(\"La secuencia contiene caracteres no validos. Usa el formato de una letra para aminoácidos.\")\n",
        "        else:\n",
        "            # Mostrar información básica\n",
        "            st.subheader(\"Información Básica:\")\n",
        "            st.write(f\"Longitud de la secuencia: {len(protein_sequence)}aminoácidos\")\n",
        "            st.write(f\"Secuencia en formato de tres letras: {seq3(protein_sequence)}\")\n",
        "\n",
        "            # Predicción simple (basada en patrones)\n",
        "            st.subheader(\"Predicción de Estructura Secundaria (Simple):\")\n",
        "            alpha_helix = sum(protein_sequence.count(res) for res in \"AEHKLMQ\")\n",
        "            beta_sheet = sum(protein_sequence.count(res) for res in \"FWYVITC\")\n",
        "            coil = len(protein_sequence) - (alpha_helix + beta_sheet)\n",
        "\n",
        "            st.write(f\"Residuo favorable para hélices α: {alpha_helix}\")\n",
        "            st.write(f\"Residuo favorable para láminas β: {beta_sheet}\")\n",
        "            st.write(f\"Residuo en conformación coil: {coil}\")\n",
        "\n",
        "            # Graficar distribución\n",
        "            st.subheader(\"Distribución de Estructuras Secundarias:\")\n",
        "            st.bar_chart({\"Hélices α\": alpha_helix, \"Láminas β\": beta_sheet, \"Coil\": coil})\n",
        "\n",
        "            # Posibilidad de predicción avanzada\n",
        "            st.info(\"Para predicciones avanzadas (PSIPRED, AlphaFold, etc.), se requiere integración con herramientas externas.\")\n",
        "    except Exception as e:\n",
        "        st.error(f\"Hubo un error procesando la secuencia: {e}\")\n",
        "else:\n",
        "    st.info(\"Introduce una secuencia de aminoácidos para comenzar.\")\n",
        "\n",
        ""
      ]
    }
  ]
}